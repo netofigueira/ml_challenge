{
 "cells": [
  {
   "cell_type": "markdown",
   "id": "f5056f97",
   "metadata": {},
   "source": [
    "![mercado libre logo](https://res-2.cloudinary.com/crunchbase-production/image/upload/c_lpad,h_170,w_170,f_auto,b_white,q_auto:eco/v1456160088/dauw8qmiutpmqx4wvwlf.png)"
   ]
  },
  {
   "cell_type": "code",
   "execution_count": 2,
   "id": "1fc5596d",
   "metadata": {},
   "outputs": [],
   "source": [
    "import requests\n",
    "import pandas as pd\n",
    "import numpy as np\n",
    "import matplotlib.pyplot as plt\n",
    "import seaborn as sns\n",
    "\n",
    "# sklearn imports\n",
    "from sklearn.model_selection import train_test_split"
   ]
  },
  {
   "cell_type": "code",
   "execution_count": 3,
   "id": "c7e2b982",
   "metadata": {},
   "outputs": [],
   "source": [
    "from sklearn.compose import make_column_transformer\n",
    "from sklearn.preprocessing import OneHotEncoder, LabelEncoder\n",
    "\n",
    "from sklearn.pipeline import make_pipeline, Pipeline\n",
    "from sklearn.linear_model import Ridge, LinearRegression, ElasticNet\n",
    "from scipy.special import exp10\n",
    "from sklearn.compose import TransformedTargetRegressor\n",
    "from sklearn.metrics import mean_absolute_error, mean_squared_error, r2_score\n",
    "from sklearn.preprocessing import StandardScaler, RobustScaler, FunctionTransformer\n",
    "from sklearn.model_selection import cross_val_score, GridSearchCV, RandomizedSearchCV, learning_curve\n",
    "from sklearn.ensemble import RandomForestRegressor\n"
   ]
  },
  {
   "cell_type": "code",
   "execution_count": 4,
   "id": "1feb78ec",
   "metadata": {},
   "outputs": [],
   "source": [
    "%matplotlib inline\n",
    "sns.set_context('notebook')\n",
    "sns.set_style('whitegrid')"
   ]
  },
  {
   "cell_type": "markdown",
   "id": "534efd78",
   "metadata": {},
   "source": [
    "# Machine Learning model development - GLM trial (Poisson Regressor)"
   ]
  },
  {
   "cell_type": "code",
   "execution_count": 28,
   "id": "3b38b877",
   "metadata": {},
   "outputs": [],
   "source": [
    "df = pd.read_pickle('categoriesDF.pkl')"
   ]
  },
  {
   "cell_type": "code",
   "execution_count": 4,
   "id": "436ea98a",
   "metadata": {
    "scrolled": true
   },
   "outputs": [
    {
     "data": {
      "text/plain": [
       "(13623, 128)"
      ]
     },
     "execution_count": 4,
     "metadata": {},
     "output_type": "execute_result"
    }
   ],
   "source": [
    "df.shape"
   ]
  },
  {
   "cell_type": "code",
   "execution_count": 29,
   "id": "6bb0fb10",
   "metadata": {},
   "outputs": [],
   "source": [
    "features = [\n",
    "\n",
    " 'price',\n",
    " 'available_quantity',\n",
    " 'sold_quantity',\n",
    " 'condition',\n",
    " 'accepts_mercadopago',\n",
    " 'original_price',\n",
    "  'seller.seller_reputation.transactions.completed',\n",
    " 'seller.seller_reputation.transactions.ratings.positive',\n",
    " 'seller.seller_reputation.transactions.ratings.negative',\n",
    " 'seller.seller_reputation.metrics.sales.completed',\n",
    "  'seller.seller_reputation.metrics.sales.period',\n",
    "  'seller.seller_reputation.metrics.cancellations.rate',\n",
    "   'seller.seller_reputation.metrics.claims.rate',\n",
    "    'installments.quantity',\n",
    "  'shipping.free_shipping',\n",
    "  'shipping.mode',\n",
    "]"
   ]
  },
  {
   "cell_type": "code",
   "execution_count": 30,
   "id": "8480b9fa",
   "metadata": {},
   "outputs": [],
   "source": [
    "df = df[features] "
   ]
  },
  {
   "cell_type": "code",
   "execution_count": 31,
   "id": "81c8bafa",
   "metadata": {},
   "outputs": [],
   "source": [
    "seller_features = ['seller.seller_reputation.transactions.completed',\n",
    " 'seller.seller_reputation.transactions.ratings.positive',\n",
    " 'seller.seller_reputation.transactions.ratings.negative',\n",
    " 'seller.seller_reputation.metrics.sales.completed',\n",
    "  'seller.seller_reputation.metrics.sales.period',\n",
    "  'seller.seller_reputation.metrics.cancellations.rate',\n",
    "   'seller.seller_reputation.metrics.claims.rate',]"
   ]
  },
  {
   "cell_type": "code",
   "execution_count": 32,
   "id": "528cc274",
   "metadata": {},
   "outputs": [],
   "source": [
    "seller_features_clean = []\n",
    "for i in seller_features:\n",
    "    \n",
    "    seller_features_clean.append(i.split('seller.seller_reputation.')[-1])"
   ]
  },
  {
   "cell_type": "code",
   "execution_count": 33,
   "id": "19145dc8",
   "metadata": {},
   "outputs": [],
   "source": [
    "df.rename(columns= dict(zip(seller_features,seller_features_clean)), inplace=True)"
   ]
  },
  {
   "cell_type": "code",
   "execution_count": 34,
   "id": "a17d53f3",
   "metadata": {},
   "outputs": [],
   "source": [
    "df['installments.quantity'].fillna(value=0, inplace=True)\n"
   ]
  },
  {
   "cell_type": "code",
   "execution_count": 35,
   "id": "0c65a42b",
   "metadata": {},
   "outputs": [
    {
     "data": {
      "text/plain": [
       "array([12., 18.,  9.,  3.,  6.,  0.])"
      ]
     },
     "execution_count": 35,
     "metadata": {},
     "output_type": "execute_result"
    }
   ],
   "source": [
    "df['installments.quantity'].unique()"
   ]
  },
  {
   "cell_type": "markdown",
   "id": "9f5764d4",
   "metadata": {},
   "source": [
    "### features construction\n"
   ]
  },
  {
   "cell_type": "code",
   "execution_count": 36,
   "id": "2737050c",
   "metadata": {},
   "outputs": [],
   "source": [
    "df['discount_value'] = df['original_price'] - df['price']\n",
    "df['discount_pct'] = df['discount_value']/df['original_price']\n",
    "df['has_discount'] = df.discount_value.apply(lambda val: 'no' if str(val) == 'nan' else 'yes')"
   ]
  },
  {
   "cell_type": "code",
   "execution_count": 37,
   "id": "f4f149a9",
   "metadata": {},
   "outputs": [],
   "source": [
    "df['discount_value'].fillna(value=0, inplace=True)\n",
    "df['discount_pct'].fillna(value=0, inplace=True)\n"
   ]
  },
  {
   "cell_type": "code",
   "execution_count": null,
   "id": "cafaf0b2",
   "metadata": {},
   "outputs": [],
   "source": [
    "df['sold_per_available'] = df['sold_quantity']/df['available_quantity']"
   ]
  },
  {
   "cell_type": "code",
   "execution_count": null,
   "id": "50816d22",
   "metadata": {},
   "outputs": [],
   "source": []
  },
  {
   "cell_type": "markdown",
   "id": "31e72bba",
   "metadata": {},
   "source": [
    "## Distribution Plots"
   ]
  },
  {
   "cell_type": "code",
   "execution_count": 10,
   "id": "a3fb1830",
   "metadata": {},
   "outputs": [
    {
     "data": {
      "image/png": "[encoded data removed]",
      "text/plain": [
       "<Figure size 864x360 with 2 Axes>"
      ]
     },
     "metadata": {},
     "output_type": "display_data"
    }
   ],
   "source": [
    "df[['discount_pct','discount_value']].hist(figsize=(12,5))\n",
    "plt.show()"
   ]
  },
  {
   "cell_type": "markdown",
   "id": "150f054d",
   "metadata": {},
   "source": [
    "really assymetric feature, probably a good idea to use log scale"
   ]
  },
  {
   "cell_type": "code",
   "execution_count": 32,
   "id": "78dc5c5a",
   "metadata": {},
   "outputs": [
    {
     "data": {
      "image/png": "[encoded data removed]",
      "text/plain": [
       "<Figure size 864x360 with 2 Axes>"
      ]
     },
     "metadata": {},
     "output_type": "display_data"
    }
   ],
   "source": [
    "df[['discount_pct','discount_value']].apply(np.log1p).hist(figsize=(12,5))\n",
    "plt.show()"
   ]
  },
  {
   "cell_type": "code",
   "execution_count": 33,
   "id": "f0c9a03b",
   "metadata": {},
   "outputs": [
    {
     "data": {
      "image/png": "[encoded data removed]",
      "text/plain": [
       "<Figure size 720x360 with 2 Axes>"
      ]
     },
     "metadata": {},
     "output_type": "display_data"
    }
   ],
   "source": [
    "df[['sold_quantity', 'available_quantity']].hist(figsize=(10,5))\n",
    "plt.show()"
   ]
  },
  {
   "cell_type": "code",
   "execution_count": 35,
   "id": "e248cc16",
   "metadata": {
    "scrolled": true
   },
   "outputs": [
    {
     "data": {
      "image/png": "[encoded data removed]",
      "text/plain": [
       "<Figure size 720x360 with 2 Axes>"
      ]
     },
     "metadata": {},
     "output_type": "display_data"
    }
   ],
   "source": [
    "df[['sold_quantity', 'available_quantity']].apply(np.log1p).hist(figsize=(10,5))\n",
    "plt.show()"
   ]
  },
  {
   "cell_type": "code",
   "execution_count": 41,
   "id": "75a7bdac",
   "metadata": {},
   "outputs": [
    {
     "data": {
      "image/png": "[encoded data removed]",
      "text/plain": [
       "<Figure size 432x288 with 1 Axes>"
      ]
     },
     "metadata": {},
     "output_type": "display_data"
    }
   ],
   "source": [
    "df['sold_per_available'].hist()\n",
    "plt.show()"
   ]
  },
  {
   "cell_type": "code",
   "execution_count": 42,
   "id": "7faebe37",
   "metadata": {},
   "outputs": [
    {
     "data": {
      "image/png": "[encoded data removed]",
      "text/plain": [
       "<Figure size 432x288 with 1 Axes>"
      ]
     },
     "metadata": {},
     "output_type": "display_data"
    }
   ],
   "source": [
    "df['sold_per_available'].apply(np.log1p).hist()\n",
    "plt.show()"
   ]
  },
  {
   "cell_type": "markdown",
   "id": "ce57b54d",
   "metadata": {},
   "source": [
    "ratio of sold_quantity per available quantity looks like a poisson distribution, often used to predict count targets. instead of predicting 'sold_quantity' I'll try to develop a model to predict sold_quantity/available_quantity"
   ]
  },
  {
   "cell_type": "markdown",
   "id": "14534dc7",
   "metadata": {},
   "source": [
    "## features distribution without log scaling"
   ]
  },
  {
   "cell_type": "code",
   "execution_count": 53,
   "id": "8c82e0cd",
   "metadata": {
    "scrolled": false
   },
   "outputs": [
    {
     "data": {
      "image/png": "[encoded data removed]",
      "text/plain": [
       "<Figure size 1080x720 with 12 Axes>"
      ]
     },
     "metadata": {},
     "output_type": "display_data"
    }
   ],
   "source": [
    "df.drop(columns=(['original_price', 'discount_value', 'discount_pct'])).select_dtypes(include='number').hist(figsize=(15,10))\n",
    "plt.show()\n"
   ]
  },
  {
   "cell_type": "markdown",
   "id": "cc75c9fe",
   "metadata": {},
   "source": [
    "## features distribution with log scaling\n",
    "\n",
    "we can see that applying log transfomation brings some of the features closer to normality"
   ]
  },
  {
   "cell_type": "code",
   "execution_count": 57,
   "id": "2f831c3e",
   "metadata": {
    "scrolled": false
   },
   "outputs": [
    {
     "data": {
      "image/png": "[encoded data removed]",
      "text/plain": [
       "<Figure size 1080x720 with 16 Axes>"
      ]
     },
     "metadata": {},
     "output_type": "display_data"
    }
   ],
   "source": [
    "df.drop(columns=(['original_price'])).select_dtypes(include='number').apply(np.log1p).hist(figsize=(15,10))\n",
    "plt.show()"
   ]
  },
  {
   "cell_type": "code",
   "execution_count": null,
   "id": "e11e6bf4",
   "metadata": {},
   "outputs": [],
   "source": []
  },
  {
   "cell_type": "code",
   "execution_count": 38,
   "id": "08935a7c",
   "metadata": {},
   "outputs": [],
   "source": [
    "from sklearn.compose import ColumnTransformer\n",
    "from sklearn.pipeline import Pipeline\n"
   ]
  },
  {
   "cell_type": "markdown",
   "id": "f8831e51",
   "metadata": {},
   "source": [
    "## feature preprocessor pipeline"
   ]
  },
  {
   "cell_type": "code",
   "execution_count": 120,
   "id": "74d7ccda",
   "metadata": {},
   "outputs": [],
   "source": [
    "log_scale_transformer = make_pipeline(\n",
    "    \n",
    "    FunctionTransformer(np.log1p, validate=False),\n",
    "    StandardScaler()\n",
    ")\n",
    "\n",
    "linear_model_preprocessor = ColumnTransformer(\n",
    "    [\n",
    "        (\"passthrough_numeric\", \"passthrough\",\n",
    "            [\"installments.quantity\",\"transactions.ratings.positive\", \"metrics.claims.rate\",\n",
    "             \"metrics.cancellations.rate\"]\n",
    "        ),\n",
    "\n",
    "        (\"log_scaled_numeric\", log_scale_transformer,\n",
    "            [\"price\", \"transactions.completed\", \"metrics.sales.completed\", 'discount_value', 'discount_pct']\n",
    "        ),\n",
    "        (\"onehot_categorical\", OneHotEncoder(),\n",
    "            list(df.drop(columns=['accepts_mercadopago']).select_dtypes(exclude=\"number\"))\n",
    "        ),\n",
    "    ],\n",
    "    remainder=\"drop\",\n",
    ")\n"
   ]
  },
  {
   "cell_type": "markdown",
   "id": "feb9ae96",
   "metadata": {},
   "source": [
    "## Evaluation function\n",
    "\n",
    "When using GLMs R2 does mpt represent the proportion of variance explained. instead we use poisson deviance"
   ]
  },
  {
   "cell_type": "code",
   "execution_count": 41,
   "id": "2c21ad95",
   "metadata": {},
   "outputs": [],
   "source": [
    "def score_estimator(estimator, df_test):\n",
    "    \"\"\"Score an estimator on the test set.\"\"\"\n",
    "    y_pred = estimator.predict(df_test)\n",
    "\n",
    "    print(\"MSE: %.3f\" %\n",
    "          mean_squared_error(df_test[\"sold_per_available\"], y_pred,\n",
    "                             sample_weight=df_test[\"available_quantity\"]))\n",
    "    \n",
    "    \n",
    "    print(\"RMSE: %.3f\" %\n",
    "          np.sqrt(mean_squared_error(df_test[\"sold_per_available\"], y_pred,\n",
    "                             sample_weight=df_test[\"available_quantity\"])) )\n",
    "    print(\"MAE: %.3f\" %\n",
    "          mean_absolute_error(df_test[\"sold_per_available\"], y_pred,\n",
    "                              sample_weight=df_test[\"available_quantity\"]))\n",
    "\n",
    "    # Ignore non-positive predictions, as they are invalid for\n",
    "    # the Poisson deviance.\n",
    "\n",
    "    mask = y_pred > 0\n",
    "    if (~mask).any():\n",
    "        n_masked, n_samples = (~mask).sum(), mask.shape[0]\n",
    "        print(f\"WARNING: Estimator yields invalid, non-positive predictions \"\n",
    "              f\" for {n_masked} samples out of {n_samples}. These predictions \"\n",
    "              f\"are ignored when computing the Poisson deviance.\")\n",
    "\n",
    "    print(\"mean Poisson deviance: %.3f\" %\n",
    "          mean_poisson_deviance(df_test[\"sold_per_available\"][mask],\n",
    "                                y_pred[mask],\n",
    "                                sample_weight=df_test[\"available_quantity\"][mask]))\n",
    "\n"
   ]
  },
  {
   "cell_type": "code",
   "execution_count": 46,
   "id": "b866e625",
   "metadata": {},
   "outputs": [],
   "source": [
    "df_train, df_test = train_test_split(df, test_size=0.33, random_state=0)"
   ]
  },
  {
   "cell_type": "code",
   "execution_count": 121,
   "id": "d355ec02",
   "metadata": {},
   "outputs": [],
   "source": [
    "from sklearn.metrics import mean_poisson_deviance\n",
    "\n",
    "ridge_glm = Pipeline([\n",
    "    (\"preprocessor\", linear_model_preprocessor),\n",
    "    (\"regressor\", Ridge(alpha=0.1, fit_intercept=True)),\n",
    "]).fit(df_train, df_train[\"sold_per_available\"],\n",
    "       regressor__sample_weight=df_train[\"available_quantity\"])"
   ]
  },
  {
   "cell_type": "code",
   "execution_count": 122,
   "id": "be268e8c",
   "metadata": {},
   "outputs": [
    {
     "name": "stdout",
     "output_type": "stream",
     "text": [
      "MSE: 190.089\n",
      "RMSE: 13.787\n",
      "MAE: 0.759\n",
      "WARNING: Estimator yields invalid, non-positive predictions  for 95 samples out of 4496. These predictions are ignored when computing the Poisson deviance.\n",
      "mean Poisson deviance: 3.484\n"
     ]
    }
   ],
   "source": [
    "score_estimator(ridge_glm, df_test)"
   ]
  },
  {
   "cell_type": "code",
   "execution_count": 123,
   "id": "5d612f04",
   "metadata": {},
   "outputs": [
    {
     "name": "stdout",
     "output_type": "stream",
     "text": [
      "PoissonRegressor evaluation:\n",
      "MSE: 190.151\n",
      "RMSE: 13.790\n",
      "MAE: 0.781\n",
      "mean Poisson deviance: 3.583\n"
     ]
    }
   ],
   "source": [
    "from sklearn.linear_model import PoissonRegressor, TweedieRegressor\n",
    "\n",
    "n_samples = df_train.shape[0]\n",
    "\n",
    "poisson_glm = Pipeline([\n",
    "    (\"preprocessor\", linear_model_preprocessor),\n",
    "    (\"regressor\", TweedieRegressor(power=1, warm_start=True, link='log'))\n",
    "])\n",
    "poisson_glm.fit(df_train, df_train[\"sold_per_available\"],\n",
    "                regressor__sample_weight=df_train[\"available_quantity\"])\n",
    "\n",
    "print(\"PoissonRegressor evaluation:\")\n",
    "score_estimator(poisson_glm, df_test)"
   ]
  },
  {
   "cell_type": "code",
   "execution_count": 55,
   "id": "93dd124d",
   "metadata": {},
   "outputs": [],
   "source": [
    "y_pred = poisson_glm.predict(df_test)"
   ]
  },
  {
   "cell_type": "code",
   "execution_count": 99,
   "id": "82429d35",
   "metadata": {},
   "outputs": [
    {
     "name": "stdout",
     "output_type": "stream",
     "text": [
      "predicted number of sales 1425659.001270777\n"
     ]
    }
   ],
   "source": [
    "print('predicted number of sales',np.sum(y_pred * df_test['available_quantity']))"
   ]
  },
  {
   "cell_type": "code",
   "execution_count": 100,
   "id": "6eb55d10",
   "metadata": {},
   "outputs": [
    {
     "name": "stdout",
     "output_type": "stream",
     "text": [
      "actual number of sales: 1709593\n"
     ]
    }
   ],
   "source": [
    "print('actual number of sales:',np.sum(df_test['sold_quantity']) )"
   ]
  },
  {
   "cell_type": "code",
   "execution_count": 105,
   "id": "300eb46c",
   "metadata": {},
   "outputs": [
    {
     "name": "stdout",
     "output_type": "stream",
     "text": [
      "percentual error of sold quantity:\n"
     ]
    },
    {
     "data": {
      "text/plain": [
       "8.696067597910098"
      ]
     },
     "execution_count": 105,
     "metadata": {},
     "output_type": "execute_result"
    }
   ],
   "source": [
    "print('percentual error of sold quantity:')\n",
    "100 *(np.sum(df_test['sold_quantity']) - np.sum(y_pred * df_test['available_quantity']))/np.sum(df_test['available_quantity'])"
   ]
  },
  {
   "cell_type": "markdown",
   "id": "7119ba74",
   "metadata": {},
   "source": [
    "## Save Model"
   ]
  },
  {
   "cell_type": "code",
   "execution_count": 110,
   "id": "6d7b5708",
   "metadata": {},
   "outputs": [
    {
     "data": {
      "text/plain": [
       "Ridge(alpha=0.1)"
      ]
     },
     "execution_count": 110,
     "metadata": {},
     "output_type": "execute_result"
    }
   ],
   "source": [
    "ridge_glm['regressor']"
   ]
  },
  {
   "cell_type": "code",
   "execution_count": 50,
   "id": "08211ce8",
   "metadata": {},
   "outputs": [],
   "source": [
    "import pickle"
   ]
  },
  {
   "cell_type": "code",
   "execution_count": 51,
   "id": "56fd045f",
   "metadata": {},
   "outputs": [],
   "source": [
    "filename = 'poisson_model_ml.pkl'\n",
    "pickle.dump(poisson_glm, open(filename, 'wb'))"
   ]
  },
  {
   "cell_type": "code",
   "execution_count": 112,
   "id": "1a00e250",
   "metadata": {},
   "outputs": [
    {
     "data": {
      "text/plain": [
       "Index(['price', 'available_quantity', 'sold_quantity', 'condition',\n",
       "       'accepts_mercadopago', 'original_price', 'transactions.completed',\n",
       "       'transactions.ratings.positive', 'transactions.ratings.negative',\n",
       "       'metrics.sales.completed', 'metrics.sales.period',\n",
       "       'metrics.cancellations.rate', 'metrics.claims.rate',\n",
       "       'installments.quantity', 'shipping.free_shipping', 'shipping.mode',\n",
       "       'discount_value', 'discount_pct', 'has_discount', 'sold_per_available'],\n",
       "      dtype='object')"
      ]
     },
     "execution_count": 112,
     "metadata": {},
     "output_type": "execute_result"
    }
   ],
   "source": [
    "df_test.columns"
   ]
  },
  {
   "cell_type": "markdown",
   "id": "095caee7",
   "metadata": {},
   "source": [
    "# items compatible features"
   ]
  },
  {
   "cell_type": "code",
   "execution_count": 118,
   "id": "9a4bb924",
   "metadata": {},
   "outputs": [],
   "source": [
    "features_items = ['accepts_mercadopago',\n",
    " 'available_quantity',\n",
    " 'condition',\n",
    " 'original_price',\n",
    " 'price',\n",
    " 'shipping.free_shipping',\n",
    " 'shipping.mode',\n",
    " 'sold_quantity',\n",
    " 'discount_value', \n",
    " 'discount_pct', \n",
    " 'sold_per_available',\n",
    " 'has_discount'\n",
    "           ]"
   ]
  },
  {
   "cell_type": "code",
   "execution_count": 119,
   "id": "d62aa081",
   "metadata": {},
   "outputs": [
    {
     "data": {
      "text/html": [
       "<div>\n",
       "<style scoped>\n",
       "    .dataframe tbody tr th:only-of-type {\n",
       "        vertical-align: middle;\n",
       "    }\n",
       "\n",
       "    .dataframe tbody tr th {\n",
       "        vertical-align: top;\n",
       "    }\n",
       "\n",
       "    .dataframe thead th {\n",
       "        text-align: right;\n",
       "    }\n",
       "</style>\n",
       "<table border=\"1\" class=\"dataframe\">\n",
       "  <thead>\n",
       "    <tr style=\"text-align: right;\">\n",
       "      <th></th>\n",
       "      <th>accepts_mercadopago</th>\n",
       "      <th>available_quantity</th>\n",
       "      <th>condition</th>\n",
       "      <th>original_price</th>\n",
       "      <th>price</th>\n",
       "      <th>shipping.free_shipping</th>\n",
       "      <th>shipping.mode</th>\n",
       "      <th>sold_quantity</th>\n",
       "      <th>discount_value</th>\n",
       "      <th>discount_pct</th>\n",
       "      <th>sold_per_available</th>\n",
       "      <th>has_discount</th>\n",
       "    </tr>\n",
       "  </thead>\n",
       "  <tbody>\n",
       "    <tr>\n",
       "      <th>0</th>\n",
       "      <td>True</td>\n",
       "      <td>8</td>\n",
       "      <td>new</td>\n",
       "      <td>NaN</td>\n",
       "      <td>360.00</td>\n",
       "      <td>False</td>\n",
       "      <td>not_specified</td>\n",
       "      <td>0</td>\n",
       "      <td>0.00</td>\n",
       "      <td>0.000000</td>\n",
       "      <td>0.000000</td>\n",
       "      <td>no</td>\n",
       "    </tr>\n",
       "    <tr>\n",
       "      <th>1</th>\n",
       "      <td>True</td>\n",
       "      <td>37</td>\n",
       "      <td>new</td>\n",
       "      <td>NaN</td>\n",
       "      <td>2090.00</td>\n",
       "      <td>False</td>\n",
       "      <td>me2</td>\n",
       "      <td>217</td>\n",
       "      <td>0.00</td>\n",
       "      <td>0.000000</td>\n",
       "      <td>5.864865</td>\n",
       "      <td>no</td>\n",
       "    </tr>\n",
       "    <tr>\n",
       "      <th>2</th>\n",
       "      <td>True</td>\n",
       "      <td>68</td>\n",
       "      <td>new</td>\n",
       "      <td>430.12</td>\n",
       "      <td>387.11</td>\n",
       "      <td>False</td>\n",
       "      <td>me2</td>\n",
       "      <td>438</td>\n",
       "      <td>43.01</td>\n",
       "      <td>0.099995</td>\n",
       "      <td>6.441176</td>\n",
       "      <td>yes</td>\n",
       "    </tr>\n",
       "    <tr>\n",
       "      <th>3</th>\n",
       "      <td>True</td>\n",
       "      <td>30</td>\n",
       "      <td>new</td>\n",
       "      <td>NaN</td>\n",
       "      <td>42.00</td>\n",
       "      <td>False</td>\n",
       "      <td>me2</td>\n",
       "      <td>0</td>\n",
       "      <td>0.00</td>\n",
       "      <td>0.000000</td>\n",
       "      <td>0.000000</td>\n",
       "      <td>no</td>\n",
       "    </tr>\n",
       "    <tr>\n",
       "      <th>4</th>\n",
       "      <td>True</td>\n",
       "      <td>230</td>\n",
       "      <td>new</td>\n",
       "      <td>NaN</td>\n",
       "      <td>3970.00</td>\n",
       "      <td>True</td>\n",
       "      <td>me2</td>\n",
       "      <td>122</td>\n",
       "      <td>0.00</td>\n",
       "      <td>0.000000</td>\n",
       "      <td>0.530435</td>\n",
       "      <td>no</td>\n",
       "    </tr>\n",
       "    <tr>\n",
       "      <th>...</th>\n",
       "      <td>...</td>\n",
       "      <td>...</td>\n",
       "      <td>...</td>\n",
       "      <td>...</td>\n",
       "      <td>...</td>\n",
       "      <td>...</td>\n",
       "      <td>...</td>\n",
       "      <td>...</td>\n",
       "      <td>...</td>\n",
       "      <td>...</td>\n",
       "      <td>...</td>\n",
       "      <td>...</td>\n",
       "    </tr>\n",
       "    <tr>\n",
       "      <th>13618</th>\n",
       "      <td>True</td>\n",
       "      <td>1</td>\n",
       "      <td>new</td>\n",
       "      <td>NaN</td>\n",
       "      <td>4600.00</td>\n",
       "      <td>True</td>\n",
       "      <td>me2</td>\n",
       "      <td>150</td>\n",
       "      <td>0.00</td>\n",
       "      <td>0.000000</td>\n",
       "      <td>150.000000</td>\n",
       "      <td>no</td>\n",
       "    </tr>\n",
       "    <tr>\n",
       "      <th>13619</th>\n",
       "      <td>True</td>\n",
       "      <td>1</td>\n",
       "      <td>new</td>\n",
       "      <td>1484.20</td>\n",
       "      <td>1365.46</td>\n",
       "      <td>False</td>\n",
       "      <td>me2</td>\n",
       "      <td>25</td>\n",
       "      <td>118.74</td>\n",
       "      <td>0.080003</td>\n",
       "      <td>25.000000</td>\n",
       "      <td>yes</td>\n",
       "    </tr>\n",
       "    <tr>\n",
       "      <th>13620</th>\n",
       "      <td>True</td>\n",
       "      <td>1</td>\n",
       "      <td>new</td>\n",
       "      <td>NaN</td>\n",
       "      <td>1965.00</td>\n",
       "      <td>False</td>\n",
       "      <td>me2</td>\n",
       "      <td>200</td>\n",
       "      <td>0.00</td>\n",
       "      <td>0.000000</td>\n",
       "      <td>200.000000</td>\n",
       "      <td>no</td>\n",
       "    </tr>\n",
       "    <tr>\n",
       "      <th>13621</th>\n",
       "      <td>True</td>\n",
       "      <td>1</td>\n",
       "      <td>new</td>\n",
       "      <td>NaN</td>\n",
       "      <td>335.00</td>\n",
       "      <td>False</td>\n",
       "      <td>me2</td>\n",
       "      <td>150</td>\n",
       "      <td>0.00</td>\n",
       "      <td>0.000000</td>\n",
       "      <td>150.000000</td>\n",
       "      <td>no</td>\n",
       "    </tr>\n",
       "    <tr>\n",
       "      <th>13622</th>\n",
       "      <td>True</td>\n",
       "      <td>50</td>\n",
       "      <td>new</td>\n",
       "      <td>8999.00</td>\n",
       "      <td>8279.08</td>\n",
       "      <td>True</td>\n",
       "      <td>me2</td>\n",
       "      <td>500</td>\n",
       "      <td>719.92</td>\n",
       "      <td>0.080000</td>\n",
       "      <td>10.000000</td>\n",
       "      <td>yes</td>\n",
       "    </tr>\n",
       "  </tbody>\n",
       "</table>\n",
       "<p>13623 rows × 12 columns</p>\n",
       "</div>"
      ],
      "text/plain": [
       "       accepts_mercadopago  available_quantity condition  original_price  \\\n",
       "0                     True                   8       new             NaN   \n",
       "1                     True                  37       new             NaN   \n",
       "2                     True                  68       new          430.12   \n",
       "3                     True                  30       new             NaN   \n",
       "4                     True                 230       new             NaN   \n",
       "...                    ...                 ...       ...             ...   \n",
       "13618                 True                   1       new             NaN   \n",
       "13619                 True                   1       new         1484.20   \n",
       "13620                 True                   1       new             NaN   \n",
       "13621                 True                   1       new             NaN   \n",
       "13622                 True                  50       new         8999.00   \n",
       "\n",
       "         price  shipping.free_shipping  shipping.mode  sold_quantity  \\\n",
       "0       360.00                   False  not_specified              0   \n",
       "1      2090.00                   False            me2            217   \n",
       "2       387.11                   False            me2            438   \n",
       "3        42.00                   False            me2              0   \n",
       "4      3970.00                    True            me2            122   \n",
       "...        ...                     ...            ...            ...   \n",
       "13618  4600.00                    True            me2            150   \n",
       "13619  1365.46                   False            me2             25   \n",
       "13620  1965.00                   False            me2            200   \n",
       "13621   335.00                   False            me2            150   \n",
       "13622  8279.08                    True            me2            500   \n",
       "\n",
       "       discount_value  discount_pct  sold_per_available has_discount  \n",
       "0                0.00      0.000000            0.000000           no  \n",
       "1                0.00      0.000000            5.864865           no  \n",
       "2               43.01      0.099995            6.441176          yes  \n",
       "3                0.00      0.000000            0.000000           no  \n",
       "4                0.00      0.000000            0.530435           no  \n",
       "...               ...           ...                 ...          ...  \n",
       "13618            0.00      0.000000          150.000000           no  \n",
       "13619          118.74      0.080003           25.000000          yes  \n",
       "13620            0.00      0.000000          200.000000           no  \n",
       "13621            0.00      0.000000          150.000000           no  \n",
       "13622          719.92      0.080000           10.000000          yes  \n",
       "\n",
       "[13623 rows x 12 columns]"
      ]
     },
     "execution_count": 119,
     "metadata": {},
     "output_type": "execute_result"
    }
   ],
   "source": [
    "df[features_items]"
   ]
  },
  {
   "cell_type": "code",
   "execution_count": 128,
   "id": "3879a862",
   "metadata": {},
   "outputs": [],
   "source": [
    "log_scale_transformer_items = make_pipeline(\n",
    "    \n",
    "    FunctionTransformer(np.log1p, validate=False),\n",
    "    StandardScaler()\n",
    ")\n",
    "\n",
    "linear_model_preprocessor_items = ColumnTransformer(\n",
    "    [\n",
    "      #  (\"passthrough_numeric\", \"passthrough\",\n",
    "      #      [\"installments.quantity\",\"transactions.ratings.positive\", \"metrics.claims.rate\",\n",
    "       #      \"metrics.cancellations.rate\"]\n",
    "       # ),\n",
    "\n",
    "        (\"log_scaled_numeric\", log_scale_transformer,\n",
    "            [\"price\",  'discount_value', 'discount_pct']\n",
    "        ),\n",
    "        (\"onehot_categorical\", OneHotEncoder(),\n",
    "            list(df[features_items].drop(columns=['accepts_mercadopago']).select_dtypes(exclude=\"number\"))\n",
    "        ),\n",
    "    ],\n",
    "    remainder=\"drop\",\n",
    ")"
   ]
  },
  {
   "cell_type": "code",
   "execution_count": 132,
   "id": "f52ca811",
   "metadata": {},
   "outputs": [
    {
     "name": "stdout",
     "output_type": "stream",
     "text": [
      "PoissonRegressor evaluation:\n",
      "MSE: 190.151\n",
      "RMSE: 13.790\n",
      "MAE: 0.781\n",
      "mean Poisson deviance: 3.583\n"
     ]
    }
   ],
   "source": [
    "n_samples = df_train[features_items].shape[0]\n",
    "\n",
    "poisson_glm_items = Pipeline([\n",
    "    (\"preprocessor\", linear_model_preprocessor_items),\n",
    "    (\"regressor\", TweedieRegressor(power=1, warm_start=True, link='log'))\n",
    "])\n",
    "poisson_glm.fit(df_train[features_items], df_train[\"sold_per_available\"],\n",
    "                regressor__sample_weight=df_train[\"available_quantity\"])\n",
    "\n",
    "print(\"PoissonRegressor evaluation:\")\n",
    "score_estimator(poisson_glm, df_test[features_items])"
   ]
  },
  {
   "cell_type": "code",
   "execution_count": 133,
   "id": "facc9bb4",
   "metadata": {},
   "outputs": [],
   "source": [
    "filename = 'poisson_model_ml.pkl'\n",
    "pickle.dump(poisson_glm, open(filename, 'wb'))"
   ]
  },
  {
   "cell_type": "code",
   "execution_count": null,
   "id": "8464b77e",
   "metadata": {},
   "outputs": [],
   "source": []
  }
 ],
 "metadata": {
  "kernelspec": {
   "display_name": "Python 3",
   "language": "python",
   "name": "python3"
  },
  "language_info": {
   "codemirror_mode": {
    "name": "ipython",
    "version": 3
   },
   "file_extension": ".py",
   "mimetype": "text/x-python",
   "name": "python",
   "nbconvert_exporter": "python",
   "pygments_lexer": "ipython3",
   "version": "3.8.5"
  }
 },
 "nbformat": 4,
 "nbformat_minor": 5
}
